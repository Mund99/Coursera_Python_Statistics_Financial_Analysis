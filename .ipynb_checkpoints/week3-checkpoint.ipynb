{
 "cells": [
  {
   "cell_type": "markdown",
   "id": "782b27c1-4e4f-4f91-853d-3fa9072db07b",
   "metadata": {
    "jp-MarkdownHeadingCollapsed": true
   },
   "source": [
    "# Population and Sample"
   ]
  },
  {
   "cell_type": "code",
   "execution_count": 2,
   "id": "3d61b6c5-9fef-4f48-9fdf-5afd0d9bb633",
   "metadata": {},
   "outputs": [],
   "source": [
    "# Import libraries\n",
    "import pandas as pd \n",
    "import numpy as np"
   ]
  },
  {
   "cell_type": "markdown",
   "id": "2c44c127-2e03-4583-aa7b-67a58cf45757",
   "metadata": {
    "jp-MarkdownHeadingCollapsed": true
   },
   "source": [
    "## Population"
   ]
  },
  {
   "cell_type": "code",
   "execution_count": 3,
   "id": "15e3d9d8-1a4d-4a05-8d62-b8f67066e74a",
   "metadata": {},
   "outputs": [
    {
     "data": {
      "text/html": [
       "<div>\n",
       "<style scoped>\n",
       "    .dataframe tbody tr th:only-of-type {\n",
       "        vertical-align: middle;\n",
       "    }\n",
       "\n",
       "    .dataframe tbody tr th {\n",
       "        vertical-align: top;\n",
       "    }\n",
       "\n",
       "    .dataframe thead th {\n",
       "        text-align: right;\n",
       "    }\n",
       "</style>\n",
       "<table border=\"1\" class=\"dataframe\">\n",
       "  <thead>\n",
       "    <tr style=\"text-align: right;\">\n",
       "      <th></th>\n",
       "      <th>Population</th>\n",
       "    </tr>\n",
       "  </thead>\n",
       "  <tbody>\n",
       "    <tr>\n",
       "      <th>0</th>\n",
       "      <td>357</td>\n",
       "    </tr>\n",
       "    <tr>\n",
       "      <th>1</th>\n",
       "      <td>234</td>\n",
       "    </tr>\n",
       "    <tr>\n",
       "      <th>2</th>\n",
       "      <td>235</td>\n",
       "    </tr>\n",
       "    <tr>\n",
       "      <th>3</th>\n",
       "      <td>29</td>\n",
       "    </tr>\n",
       "    <tr>\n",
       "      <th>4</th>\n",
       "      <td>847</td>\n",
       "    </tr>\n",
       "  </tbody>\n",
       "</table>\n",
       "</div>"
      ],
      "text/plain": [
       "   Population\n",
       "0         357\n",
       "1         234\n",
       "2         235\n",
       "3          29\n",
       "4         847"
      ]
     },
     "execution_count": 3,
     "metadata": {},
     "output_type": "execute_result"
    }
   ],
   "source": [
    "# Create a Population Dataframe with 50 random numbers \n",
    "\n",
    "df = pd.DataFrame()\n",
    "df['Population']=np.random.randint(1,1000, size=50)\n",
    "\n",
    "df.head() "
   ]
  },
  {
   "cell_type": "markdown",
   "id": "184683e1-dfc3-429b-b348-06e740b33e10",
   "metadata": {
    "jp-MarkdownHeadingCollapsed": true
   },
   "source": [
    "## Sampling "
   ]
  },
  {
   "cell_type": "code",
   "execution_count": 5,
   "id": "4cea3263-5be7-43ad-988a-0ce9bdef6695",
   "metadata": {},
   "outputs": [
    {
     "name": "stdout",
     "output_type": "stream",
     "text": [
      "46    106\n",
      "7     627\n",
      "4     847\n",
      "35    340\n",
      "14    875\n",
      "6     940\n",
      "40    351\n",
      "2     235\n",
      "46    106\n",
      "28    478\n",
      "Name: Population, dtype: int32\n",
      "\n",
      "24    798\n",
      "44    936\n",
      "34    222\n",
      "2     235\n",
      "16    731\n",
      "14    875\n",
      "41    699\n",
      "45    643\n",
      "11    693\n",
      "28    478\n",
      "Name: Population, dtype: int32\n"
     ]
    }
   ],
   "source": [
    "# Create sample with sampling size = 10 \n",
    "# there are two types - replace = True / False \n",
    "# True means the value will be able to chose again vice versa \n",
    "\n",
    "sample_with_replacement = df['Population'].sample(10, replace=True)\n",
    "sample_without_replacement = df['Population'].sample(10, replace=False)\n",
    "\n",
    "print(sample_with_replacement)\n",
    "print()\n",
    "print(sample_without_replacement)"
   ]
  },
  {
   "cell_type": "markdown",
   "id": "688d955b-33b2-46bc-b259-a3aee8fd4cb7",
   "metadata": {
    "jp-MarkdownHeadingCollapsed": true
   },
   "source": [
    "## Parameters and Statistics "
   ]
  },
  {
   "cell_type": "code",
   "execution_count": 16,
   "id": "45e0071e-80d6-4036-82db-b312e939b046",
   "metadata": {},
   "outputs": [
    {
     "name": "stdout",
     "output_type": "stream",
     "text": [
      "Mean: 497.28\n",
      "Variance: 70956.44\n",
      "Standard Deviation: 266.38\n"
     ]
    }
   ],
   "source": [
    "# Calculate the mean, variance, and standard deviation\n",
    "mean_population = df['Population'].mean()\n",
    "var_population = df['Population'].var(ddof=0)\n",
    "std_population = df['Population'].std(ddof=0)\n",
    "\n",
    "# Print the calculated values\n",
    "print(f\"Mean: {mean_population:.2f}\")\n",
    "print(f\"Variance: {var_population:.2f}\")\n",
    "print(f\"Standard Deviation: {std_population:.2f}\")"
   ]
  },
  {
   "cell_type": "code",
   "execution_count": 17,
   "id": "7e801cd9-d149-475b-af28-48bbd8f72324",
   "metadata": {},
   "outputs": [
    {
     "name": "stdout",
     "output_type": "stream",
     "text": [
      "Sample Mean: 497.28\n",
      "Sample Variance: 72404.53\n",
      "Sample Standard Deviation: 269.08\n"
     ]
    }
   ],
   "source": [
    "# Randomly sample 50 population numbers without replacement\n",
    "sample_50 = df['Population'].sample(50, replace=False)\n",
    "\n",
    "# Calculate the sample mean, sample variance, and sample standard deviation\n",
    "mean_sample = sample_50.mean()\n",
    "var_sample = sample_50.var(ddof=1)\n",
    "std_sample = sample_50.std(ddof=1)\n",
    "\n",
    "# Print the calculated values\n",
    "print(f\"Sample Mean: {mean_sample:.2f}\")\n",
    "print(f\"Sample Variance: {var_sample:.2f}\")\n",
    "print(f\"Sample Standard Deviation: {std_sample:.2f}\")"
   ]
  },
  {
   "cell_type": "markdown",
   "id": "bfcf754d-1750-4903-b486-8b50c706c23d",
   "metadata": {
    "jp-MarkdownHeadingCollapsed": true
   },
   "source": [
    "## Demo why ddof = 1 for sampling "
   ]
  },
  {
   "cell_type": "code",
   "execution_count": 23,
   "id": "3b1d297b-9d4a-417b-8c2a-822d3110fe74",
   "metadata": {},
   "outputs": [
    {
     "name": "stdout",
     "output_type": "stream",
     "text": [
      "Population Variance: 70956.44\n",
      "Average of sample variance with n is: 69464.21\n",
      "Average of sample variance with n-1 is: 71224.76\n"
     ]
    }
   ],
   "source": [
    "# Demo why ddof = 1 for sampling \n",
    "\n",
    "sample_length = 1000\n",
    "sample_variance_collection0 = [df['Population'].sample(50, replace=True).var(ddof=0) for i in range(sample_length)]\n",
    "sample_variance_collection1 = [df['Population'].sample(50, replace=True).var(ddof=1) for i in range(sample_length)]\n",
    "\n",
    "print(f\"Population Variance: {var_population:.2f}\")\n",
    "print(f\"Average of sample variance with n is: {pd.DataFrame(sample_variance_collection0)[0].mean():.2f}\")\n",
    "print(f\"Average of sample variance with n-1 is: {pd.DataFrame(sample_variance_collection1)[0].mean():.2f}\")\n",
    "\n",
    "# Sample variance of ddof = 1 is closer to the population variance\n",
    "# ddof=1, --> account for the loss of one degree of freedom due to the estimation of the sample mean, \n",
    "# resulting in a more accurate estimation of the population"
   ]
  },
  {
   "cell_type": "markdown",
   "id": "b7ebe645-50a8-4b59-a864-910c4e0c02a5",
   "metadata": {},
   "source": [
    "# Variation of Sample"
   ]
  },
  {
   "cell_type": "code",
   "execution_count": 26,
   "id": "d2f3c03c-6234-477f-b3f3-0eff6e1cc1cf",
   "metadata": {},
   "outputs": [],
   "source": [
    "# import libraries \n",
    "import pandas as pd \n",
    "import numpy as np \n",
    "from scipy.stats import norm \n",
    "import matplotlib.pyplot as plt\n",
    "%matplotlib inline"
   ]
  },
  {
   "cell_type": "markdown",
   "id": "83bcdeff-e812-4dcc-809f-84fd10417e75",
   "metadata": {},
   "source": [
    "## Sample mean and SD keep changing, but always within a certain range"
   ]
  },
  {
   "cell_type": "code",
   "execution_count": 35,
   "id": "59f8fc89-6ea7-4fd6-ae68-8a9658da73ca",
   "metadata": {},
   "outputs": [
    {
     "name": "stdout",
     "output_type": "stream",
     "text": [
      "Sample Mean: 10.583994075050677\n",
      "Sample Standard Deviation: 5.686576391912332\n"
     ]
    }
   ],
   "source": [
    "# Generate a sample of size 50 from a normal distribution with mean 10 and standard deviation 5\n",
    "Fstsample = pd.DataFrame(np.random.normal(10, 5, size=50))\n",
    "\n",
    "# Calculate the sample mean and sample standard deviation\n",
    "sample_mean = Fstsample[0].mean()\n",
    "sample_std = Fstsample[0].std(ddof=1)\n",
    "\n",
    "# Print the sample mean and sample standard deviation\n",
    "print('Sample Mean:', sample_mean)\n",
    "print('Sample Standard Deviation:', sample_std)"
   ]
  },
  {
   "cell_type": "markdown",
   "id": "94f6a276-81a9-4c17-b23a-1867260c1103",
   "metadata": {},
   "source": [
    "## Empirical Distribution of mean"
   ]
  },
  {
   "cell_type": "code",
   "execution_count": null,
   "id": "593c23e1-4b2b-4850-a198-0e4d70ae995f",
   "metadata": {},
   "outputs": [],
   "source": [
    "meanlist = []\n",
    "for t in range(10000):\n",
    "    sample = pd.DataFrame(np.random.normal(10, 5, size=30))\n",
    "    meanlist.append(sample[0].mean())"
   ]
  },
  {
   "cell_type": "code",
   "execution_count": null,
   "id": "691d9f6f-9bb5-4b5a-bca2-badfb24d74a2",
   "metadata": {},
   "outputs": [],
   "source": [
    "collection = pd.DataFrame()\n",
    "collection['meanlist'] = meanlist"
   ]
  },
  {
   "cell_type": "code",
   "execution_count": null,
   "id": "7fb41abf-4408-48df-8877-c2a5eec728c1",
   "metadata": {},
   "outputs": [],
   "source": [
    "collection['meanlist'].hist(bins=100, normed=1,figsize=(15,8))"
   ]
  },
  {
   "cell_type": "markdown",
   "id": "497fbeb6-b106-4d1f-9fea-bc753973908e",
   "metadata": {},
   "source": [
    "## Sampling from arbritary distribution"
   ]
  },
  {
   "cell_type": "code",
   "execution_count": null,
   "id": "bc45cd38-32d1-4159-b6b7-9cbda2c981e7",
   "metadata": {},
   "outputs": [],
   "source": [
    "# See what central limit theorem tells you...the sample size is larger enough, \n",
    "# the distribution of sample mean is approximately normal\n",
    "# apop is not normal, but try to change the sample size from 100 to a larger number. The distribution of sample mean of apop \n",
    "# becomes normal.\n",
    "sample_size = 100\n",
    "samplemeanlist = []\n",
    "apop =  pd.DataFrame([1, 0, 1, 0, 1])\n",
    "for t in range(10000):\n",
    "    sample = apop[0].sample(sample_size, replace=True)  # small sample size\n",
    "    samplemeanlist.append(sample.mean())\n",
    "\n",
    "acollec = pd.DataFrame()\n",
    "acollec['meanlist'] = samplemeanlist\n",
    "acollec.hist(bins=100, normed=1,figsize=(15,8))"
   ]
  }
 ],
 "metadata": {
  "kernelspec": {
   "display_name": "Python 3 (ipykernel)",
   "language": "python",
   "name": "python3"
  },
  "language_info": {
   "codemirror_mode": {
    "name": "ipython",
    "version": 3
   },
   "file_extension": ".py",
   "mimetype": "text/x-python",
   "name": "python",
   "nbconvert_exporter": "python",
   "pygments_lexer": "ipython3",
   "version": "3.11.3"
  }
 },
 "nbformat": 4,
 "nbformat_minor": 5
}
